{
 "cells": [
  {
   "cell_type": "code",
   "execution_count": 4,
   "metadata": {},
   "outputs": [],
   "source": [
    "import cv2\n",
    "import numpy as np\n",
    "\n",
    "INPUT_WIDTH = 640\n",
    "INPUT_HEIGHT = 640\n",
    "SCORE_THRESHOLD = 0.5\n",
    "NMS_THRESHOLD = 0.45\n",
    "CONFIDENCE_THRESHOLD = 0.45\n"
   ]
  },
  {
   "cell_type": "code",
   "execution_count": 5,
   "metadata": {},
   "outputs": [],
   "source": [
    "FONT_FACE = cv2.FONT_HERSHEY_SIMPLEX\n",
    "FONT_SCALE = 0.7\n",
    "THICKNESS = 1\n"
   ]
  },
  {
   "cell_type": "code",
   "execution_count": 6,
   "metadata": {},
   "outputs": [],
   "source": [
    "BLACK  = (0,0,0)\n",
    "GREEN   = (0,255,0)\n",
    "YELLOW = (0,255,255)"
   ]
  },
  {
   "cell_type": "code",
   "execution_count": 7,
   "metadata": {},
   "outputs": [],
   "source": [
    "def draw_label(im, label, x, y):\n",
    "    text_size = cv2.getTextSize(label, FONT_FACE, FONT_SCALE, THICKNESS)\n",
    "    dim, baseline = text_size[0], text_size[1]\n",
    "    cv2.rectangle(im, (x,y), (x + dim[0], y + dim[1] + baseline), (0,0,0), cv2.FILLED);\n",
    "    cv2.putText(im, label, (x, y + dim[1]), FONT_FACE, FONT_SCALE, YELLOW, THICKNESS, cv2.LINE_AA)"
   ]
  },
  {
   "cell_type": "code",
   "execution_count": 8,
   "metadata": {},
   "outputs": [],
   "source": [
    "def pre_process(input_image, net):\n",
    "      blob = cv2.dnn.blobFromImage(input_image, 1/255,  (INPUT_WIDTH, INPUT_HEIGHT), [0,0,0], 1, crop=False)\n",
    "      net.setInput(blob)\n",
    "      outputs = net.forward(net.getUnconnectedOutLayersNames())\n",
    "      return outputs\n"
   ]
  },
  {
   "cell_type": "code",
   "execution_count": 1,
   "metadata": {},
   "outputs": [],
   "source": [
    "def post_process(input_image, outputs):\n",
    "    class_ids = []\n",
    "    confidences = []\n",
    "    boxes = []\n",
    "\n",
    "    rows = outputs[0].shape[1]\n",
    "    image_height, image_width = input_image.shape[:2]\n",
    "    x_factor = image_width / INPUT_WIDTH\n",
    "    y_factor = image_height / INPUT_HEIGHT\n",
    "\n",
    "    for r in range (rows):\n",
    "        row = outputs[0][0][r]\n",
    "        confidence = row[4]\n",
    "        if confidence >= CONFIDENCE_THRESHOLD:\n",
    "            classes_scores = row[5:]\n",
    "            class_id = np.argmax(classes_scores)\n",
    "            if (classes_scores[class_id]> SCORE_THRESHOLD):\n",
    "                confidences.append(class_id)\n",
    "                cx, cy, w, h = row[0], row[1], row[2], row[3]\n",
    "                left = int((cx - w/2)* x_factor)\n",
    "                top = int((cy - h/2)* y_factor)\n",
    "                width = int(w*x_factor)\n",
    "                height = int(h*y_factor) \n",
    "                box = np.array([left,top,width,height])\n",
    "                boxes.append(box)\n",
    "                indices = cv2.dnn.NMSBoxes(boxes,confidences, CONFIDENCE_THRESHOLD, NMS_THRESHOLD)\n",
    "                for i in indices:\n",
    "                    box = boxes[i]\n",
    "                    left = box[0]\n",
    "                    top = box[1]\n",
    "                    width = box[2]\n",
    "                    height = box[3]\n",
    "\n",
    "                    cv2.rectangle(input_image, (left,top), (left+ width, top+height), GREEN, 3*THICKNESS)\n",
    "\n",
    "                    label = \"{}:{:.2f}\".format(class_ids[i])\n",
    "                    draw_label(input_image, label, left, top)\n",
    "                return input_image\n"
   ]
  },
  {
   "cell_type": "code",
   "execution_count": null,
   "metadata": {},
   "outputs": [],
   "source": [
    "def main():\n",
    "    classesFile = \"coco.names\"\n",
    "    classes = None\n",
    "    with open"
   ]
  }
 ],
 "metadata": {
  "kernelspec": {
   "display_name": "Python 3.8.10 ('yolo': venv)",
   "language": "python",
   "name": "python3"
  },
  "language_info": {
   "codemirror_mode": {
    "name": "ipython",
    "version": 3
   },
   "file_extension": ".py",
   "mimetype": "text/x-python",
   "name": "python",
   "nbconvert_exporter": "python",
   "pygments_lexer": "ipython3",
   "version": "3.8.10"
  },
  "orig_nbformat": 4,
  "vscode": {
   "interpreter": {
    "hash": "5b241fd3f1a28f210672d51e0909d172c0f546004ec2f4d5e99971bb2685850a"
   }
  }
 },
 "nbformat": 4,
 "nbformat_minor": 2
}
