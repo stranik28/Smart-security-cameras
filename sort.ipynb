{
 "cells": [
  {
   "cell_type": "code",
   "execution_count": 1,
   "metadata": {},
   "outputs": [
    {
     "name": "stderr",
     "output_type": "stream",
     "text": [
      "/home/fenix1851/files/libs/yolov5/yolov5/yolo/lib/python3.8/site-packages/tqdm/auto.py:22: TqdmWarning: IProgress not found. Please update jupyter and ipywidgets. See https://ipywidgets.readthedocs.io/en/stable/user_install.html\n",
      "  from .autonotebook import tqdm as notebook_tqdm\n"
     ]
    }
   ],
   "source": [
    "from sort.sort import *\n",
    "\n",
    "import numpy as np\n",
    "import torch\n",
    "import torch.backends.cudnn as cudnn\n",
    "from utils.augmentations import letterbox\n",
    "from models.common import DetectMultiBackend\n",
    "from utils.general import (check_img_size,  check_requirements, non_max_suppression,  scale_coords, xyxy2xywh)\n",
    "from utils.torch_utils import select_device\n",
    "import cv2\n",
    "\n",
    "import tracker"
   ]
  },
  {
   "cell_type": "code",
   "execution_count": 2,
   "metadata": {},
   "outputs": [],
   "source": [
    "mot_tracker = Sort()\n",
    "\n",
    "weights = 'yolov5s.pt'\n",
    "data = 'data/coco128.yaml'\n",
    "imgsz = (480,288)\n",
    "conf_thres = 0.25\n",
    "iou_thres=0.45\n",
    "max_det=300\n",
    "device_img=False\n",
    "device=''\n",
    "\n",
    "tracker = tracker.EuclideanDistTracker()\n",
    "\n",
    "# Попробовать поменять dnn на тру, это может помочь ускорить обработку\n",
    "dnn=True\n",
    "source = 'http://192.168.66.55:8080/video'\n",
    "half=False\n",
    "# фильтр по классу(если нужно вывести что-то конкретное)\n",
    "classes = 0\n",
    "augment=False  # augmented inference\n",
    "visualize=False\n",
    "agnostic_nms=False\n"
   ]
  },
  {
   "cell_type": "code",
   "execution_count": 3,
   "metadata": {},
   "outputs": [
    {
     "name": "stderr",
     "output_type": "stream",
     "text": [
      "YOLOv5 🚀 v6.1-313-g1c5e92a Python-3.8.10 torch-1.12.0+cu102 CUDA:0 (NVIDIA GeForce GTX 950, 1997MiB)\n",
      "\n",
      "Fusing layers... \n",
      "YOLOv5s summary: 213 layers, 7225885 parameters, 0 gradients\n"
     ]
    }
   ],
   "source": [
    "device = select_device(device)\n",
    "model = DetectMultiBackend(weights, device=device, dnn=dnn, data=data, fp16=half)\n",
    "model.float()\n",
    "model.eval()\n",
    "stride, names, pt = model.stride, model.names, model.pt\n",
    "imgsz = check_img_size(imgsz, s=stride)  # check image size"
   ]
  },
  {
   "cell_type": "code",
   "execution_count": 4,
   "metadata": {},
   "outputs": [
    {
     "name": "stdout",
     "output_type": "stream",
     "text": [
      "2\n",
      "[tensor([[1.25557e-01, 1.30825e+01, 1.97436e+02, 2.12185e+02, 9.06292e-01, 0.00000e+00],\n",
      "        [6.18114e-02, 7.18188e+01, 2.73906e+01, 1.44123e+02, 6.98542e-01, 0.00000e+00]], device='cuda:0')]\n"
     ]
    },
    {
     "ename": "",
     "evalue": "",
     "output_type": "error",
     "traceback": [
      "\u001b[1;31mПри выполнении кода в текущей ячейке или предыдущей ячейке ядро аварийно завершило работу. Проверьте код в ячейках, чтобы определить возможную причину сбоя. Щелкните <a href=\"https://aka.ms/vscodeJupyterKernelCrash\">здесь</a> для получения дополнительных сведений. Подробнее см. в <a href='command:jupyter.viewOutput'>журнале Jupyter</a>."
     ]
    },
    {
     "ename": "",
     "evalue": "",
     "output_type": "error",
     "traceback": [
      "\u001b[1;31mCanceled future for execute_request message before replies were done"
     ]
    }
   ],
   "source": [
    "# vid = cv2.VideoCapture('4k.MOV')\n",
    "vid = cv2.VideoCapture('http://192.168.66.55:8080/video')\n",
    "\n",
    "bs = 1\n",
    "model.warmup(imgsz=(1 if pt else bs, 3, *imgsz))  # warmu\n",
    "while True:\n",
    "    print(2)\n",
    "    ret, image_show = vid.read()\n",
    "    img = letterbox(image_show, imgsz, stride, auto=pt)[0]\n",
    "    img = img.transpose((2, 0, 1))[::-1]\n",
    "    img = np.ascontiguousarray(img)\n",
    "    bs = 1  # batch_size\n",
    "    model.warmup(imgsz=(1 if pt else bs, 3, *imgsz))  # warmup\n",
    "    im = torch.from_numpy(img).to(device)\n",
    "    im = im.half() if model.fp16 else im.float()  # uint8 to fp16/32\n",
    "    im /= 255  # 0 - 255 to 0.0 - 1.0\n",
    "    if len(im.shape) == 3:\n",
    "        im = im[None]  # expand for batch dim\n",
    "    pred = model(im, augment=augment, visualize=visualize)\n",
    "    pred = non_max_suppression(pred, conf_thres, iou_thres, classes, agnostic_nms, max_det=max_det)\n",
    "    print(pred)\n",
    "    # detections = pred.cpu().numpy()\n",
    "    for i, det in enumerate(pred):  # per image\n",
    "        if len(det):\n",
    "            det[:, :4] = scale_coords(im.shape[2:], det[:, :4], image_show.shape).round()\n",
    "            cropList = []\n",
    "            for *xyxy, _, _ in reversed(det):\n",
    "                xyxy = torch.tensor(xyxy).view(-1, 4)\n",
    "                b = xyxy2xywh(xyxy)\n",
    "                # print(b)\n",
    "                b = b.cpu().detach().numpy().tolist()\n",
    "                b[0].append(0.8)\n",
    "                cropList.append(b)\n",
    "            for id,i in enumerate(cropList):\n",
    "                # print()\n",
    "                x,y,w,h,s = i[0]\n",
    "                x1 = int(x-w/2)\n",
    "                y1 = int(y-h/2)\n",
    "                x2 = int(x+w/2)\n",
    "                y2 = int(y+h/2)\n",
    "\n",
    "                i[0] = [x1,y1,x2,y2,s]\n",
    "                cropList[id] = i[0]\n",
    "                # print(cropList[id])\n",
    "            cropList = np.array(cropList)\n",
    "            # print(cropList)\n",
    "            track_bbs_ids = mot_tracker.update(cropList)\n",
    "            \n",
    "            for j in range(len(track_bbs_ids.tolist())):\n",
    "                coords = track_bbs_ids.tolist()[j]\n",
    "                x1,y1,x2,y2 = int(coords[0]), int(coords[1]), int(coords[2]), int(coords[3])\n",
    "                name_idx = int(coords[4])\n",
    "                # print(name_idx)\n",
    "                # color = colours[name_idx]\n",
    "                cv2.putText(image_show,str(name_idx),(x1,y1-5), cv2.FONT_HERSHEY_COMPLEX_SMALL,3, (255,255,255), 2)\n",
    "                cv2.rectangle(image_show,(x1,y1),(x2,y2),(0,255,0),2)\n",
    "        else:\n",
    "            cropList = [0,0,0,0]\n",
    "    \n",
    "    cv2.imshow('1', cv2.resize(image_show,(640,480)))\n",
    "    print(2)\n",
    "    if cv2.waitKey(1) & 0xFF == ord('q'):\n",
    "        break \n",
    "cv2.destroyAllWindows()\n"
   ]
  }
 ],
 "metadata": {
  "kernelspec": {
   "display_name": "Python 3.8.10 ('yolo': venv)",
   "language": "python",
   "name": "python3"
  },
  "language_info": {
   "codemirror_mode": {
    "name": "ipython",
    "version": 3
   },
   "file_extension": ".py",
   "mimetype": "text/x-python",
   "name": "python",
   "nbconvert_exporter": "python",
   "pygments_lexer": "ipython3",
   "version": "3.8.10"
  },
  "orig_nbformat": 4,
  "vscode": {
   "interpreter": {
    "hash": "5b241fd3f1a28f210672d51e0909d172c0f546004ec2f4d5e99971bb2685850a"
   }
  }
 },
 "nbformat": 4,
 "nbformat_minor": 2
}
